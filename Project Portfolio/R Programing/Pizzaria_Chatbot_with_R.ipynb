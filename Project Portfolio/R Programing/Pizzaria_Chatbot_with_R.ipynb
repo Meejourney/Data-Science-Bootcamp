{
  "nbformat": 4,
  "nbformat_minor": 0,
  "metadata": {
    "colab": {
      "provenance": [],
      "authorship_tag": "ABX9TyPd2xv3X3qxNFVo1kHcYN7Z",
      "include_colab_link": true
    },
    "kernelspec": {
      "name": "ir",
      "display_name": "R"
    },
    "language_info": {
      "name": "R"
    }
  },
  "cells": [
    {
      "cell_type": "markdown",
      "metadata": {
        "id": "view-in-github",
        "colab_type": "text"
      },
      "source": [
        "<a href=\"https://colab.research.google.com/github/Meejourney/Data-Science-Bootcamp/blob/main/Pizzaria_Chatbot_with_R.ipynb\" target=\"_parent\"><img src=\"https://colab.research.google.com/assets/colab-badge.svg\" alt=\"Open In Colab\"/></a>"
      ]
    },
    {
      "cell_type": "code",
      "execution_count": 17,
      "metadata": {
        "id": "NVcPLg70Mi2H"
      },
      "outputs": [],
      "source": [
        "order_pizza <- function(){\n",
        "\n",
        "## Greeting\n",
        "    print(\"Welcome to Mimee Pizzaria🍕🤗!\")\n",
        "    flush.console()\n",
        "    customer_name <- readline(\"What's your name?: \")\n",
        "    print(paste(\"Hi!\", customer_name))\n",
        "\n",
        " ## Introduction\n",
        "    flush.console()\n",
        "    confirm <- readline(\"Would you like to order a pizza (y/n): \")\n",
        "    if (confirm == \"y\"){\n",
        "      print(\"Please see our menu\")\n",
        "      } else {\n",
        "      print(paste(\"Thank you for visiting us\", customer_name))\n",
        "      print(paste(\"See you next time!\"))\n",
        "      }\n",
        "\n",
        " ## Display Menu\n",
        "\n",
        "    flush.console()\n",
        "    all_menu <- data.frame(\n",
        "      menu_id = c(1,2,3,4,5),\n",
        "      pizza_menu = c(\"Pepperoni\",\"Margherita\",\"Hawaiian\",\"Vegetarian\",\"Meat Lovers\"),\n",
        "      small_price = c(10,8.5,12,9.75,14.25),\n",
        "      medium_price = c(12,10,15,10,16),\n",
        "      large_price = c(15,12,17,12,18)\n",
        "      )\n",
        "    View(all_menu)\n",
        "\n",
        " ## Ordering\n",
        "    amount <- 0\n",
        "    order_quantity <-0\n",
        "    if(confirm == \"y\"){\n",
        "       order_menu <- readline(\"What would you like to order? Please type pizza menu id : \")\n",
        "\n",
        "       flush.console()\n",
        "       order_size <- readline(\"Size (S/M/L): \")\n",
        "\n",
        "       flush.console()\n",
        "       order_quantity <- as.integer(readline(\"How many box?: \"))\n",
        "\n",
        "## Confirm order\n",
        "       flush.console()\n",
        "       confirm_order <- readline(\"Please confirm your order (y/n): \")\n",
        "       if(confirm_order == \"y\"){\n",
        "            if(order_menu == \"1\" & order_size == \"S\"){\n",
        "                 amount <- (all_menu$small_price[1] * order_quantity)\n",
        "                 menu_name <- (all_menu$pizza_menu[1])\n",
        "                 print(paste(\"Menu_id: \", order_menu, \",\" , \"Pizza_Menu: \", menu_name, \",\" , \"Quantity: \", order_quantity, \",\" , \"Amount: \", amount, \"EUR\"))\n",
        "\n",
        "              } else if (order_menu == \"1\" & order_size == \"M\"){\n",
        "                 amount <- (all_menu$medium_price[1] * order_quantity)\n",
        "                 menu_name <- (all_menu$pizza_menu[1])\n",
        "                  print(paste(\"Menu_id: \", order_menu, \",\" , \"Pizza_Menu: \", menu_name, \",\" , \"Quantity: \", order_quantity, \",\" , \"Amount: \", amount, \"EUR\"))\n",
        "\n",
        "              } else if (order_menu == \"1\" & order_size == \"L\"){\n",
        "                 amount <- (all_menu$large_price[1] * order_quantity)\n",
        "                 menu_name <- (all_menu$pizza_menu[1])\n",
        "                  print(paste(\"Menu_id: \", order_menu, \",\" , \"Pizza_Menu: \", menu_name, \",\" , \"Quantity: \", order_quantity, \",\" , \"Amount: \", amount, \"EUR\"))\n",
        "\n",
        "              } else if (order_menu == \"2\" & order_size == \"S\"){\n",
        "                 amount <- (all_menu$small_price[2] * order_quantity)\n",
        "                 menu_name <- (all_menu$pizza_menu[2])\n",
        "                  print(paste(\"Menu_id: \", order_menu, \",\" , \"Pizza_Menu: \", menu_name, \",\" , \"Quantity: \", order_quantity, \",\" , \"Amount: \", amount, \"EUR\"))\n",
        "\n",
        "              } else if (order_menu == \"2\" & order_size == \"M\"){\n",
        "                 amount <- (all_menu$medium_price[2] * order_quantity)\n",
        "                 menu_name <- (all_menu$pizza_menu[2])\n",
        "                  print(paste(\"Menu_id: \", order_menu, \",\" , \"Pizza_Menu: \", menu_name, \",\" , \"Quantity: \", order_quantity, \",\" , \"Amount: \", amount, \"EUR\"))\n",
        "\n",
        "              } else if (order_menu == \"2\" & order_size == \"L\"){\n",
        "                 amount <-  (all_menu$large_price[2] * order_quantity)\n",
        "                 menu_name <- (all_menu$pizza_menu[2])\n",
        "                 print(paste(\"Menu_id: \", order_menu, \",\" , \"Pizza_Menu: \", menu_name, \",\" , \"Quantity: \", order_quantity, \",\" , \"Amount: \", amount, \"EUR\"))\n",
        "\n",
        "              } else if (order_menu == \"3\" & order_size == \"S\"){\n",
        "                 amount <- (all_menu$small_price[3] * order_quantity)\n",
        "                 menu_name <- (all_menu$pizza_menu[2])\n",
        "                 print(paste(\"Menu_id: \", order_menu, \",\" , \"Pizza_Menu: \", menu_name, \",\" , \"Quantity: \", order_quantity, \",\" , \"Amount: \", amount, \"EUR\"))\n",
        "\n",
        "              } else if (order_menu == \"3\" & order_size == \"M\"){\n",
        "                 amount <- (all_menu$medium_price[3] * order_quantity)\n",
        "                 menu_name <- (all_menu$pizza_menu[3])\n",
        "                  print(paste(\"Menu_id: \", order_menu, \",\" , \"Pizza_Menu: \", menu_name, \",\" , \"Quantity: \", order_quantity, \",\" , \"Amount: \", amount, \"EUR\"))\n",
        "\n",
        "              } else if (order_menu == \"3\" & order_size == \"L\"){\n",
        "                 amount <- (all_menu$large_price[3] * order_quantity)\n",
        "                 menu_name <- (all_menu$pizza_menu[3])\n",
        "                  print(paste(\"Menu_id: \", order_menu, \",\" , \"Pizza_Menu: \", menu_name, \",\" , \"Quantity: \", order_quantity, \",\" , \"Amount: \", amount, \"EUR\"))\n",
        "\n",
        "              } else if (order_menu == \"4\" & order_size == \"S\"){\n",
        "                 amount <- (all_menu$small_price[4] * order_quantity)\n",
        "                 menu_name <- (all_menu$pizza_menu[4])\n",
        "                  print(paste(\"Menu_id: \", order_menu, \",\" , \"Pizza_Menu: \", menu_name, \",\" , \"Quantity: \", order_quantity, \",\" , \"Amount: \", amount, \"EUR\"))\n",
        "\n",
        "              } else if (order_menu == \"4\" & order_size == \"M\"){\n",
        "                 amount <- (all_menu$medium_price[4] * order_quantity)\n",
        "                 menu_name <- (all_menu$pizza_menu[4])\n",
        "                  print(paste(\"Menu_id: \", order_menu, \",\" , \"Pizza_Menu: \", menu_name, \",\" , \"Quantity: \", order_quantity, \",\" , \"Amount: \", amount, \"EUR\"))\n",
        "\n",
        "              } else if (order_menu == \"4\" & order_size == \"L\"){\n",
        "                 amount <- (all_menu$large_price[4] * order_quantity)\n",
        "                 menu_name <- (all_menu$pizza_menu[4])\n",
        "                  print(paste(\"Menu_id: \", order_menu, \",\" , \"Pizza_Menu: \", menu_name, \",\" , \"Quantity: \", order_quantity, \",\" , \"Amount: \", amount, \"EUR\"))\n",
        "\n",
        "              } else if (order_menu == \"5\" & order_size == \"S\"){\n",
        "                 amount <- (all_menu$small_price[5] * order_quantity)\n",
        "                 menu_name <- (all_menu$pizza_menu[5])\n",
        "                  print(paste(\"Menu_id: \", order_menu, \",\" , \"Pizza_Menu: \", menu_name, \",\" , \"Quantity: \", order_quantity, \",\" , \"Amount: \", amount, \"EUR\"))\n",
        "\n",
        "              } else if (order_menu == \"5\" & order_size == \"M\"){\n",
        "                 amount <- (all_menu$medium_price[5] * order_quantity)\n",
        "                 menu_name <- (all_menu$pizza_menu[5])\n",
        "                  print(paste(\"Menu_id: \", order_menu, \",\" , \"Pizza_Menu: \", menu_name, \",\" , \"Quantity: \", order_quantity, \",\" , \"Amount: \", amount, \"EUR\"))\n",
        "\n",
        "              } else if (order_menu == \"5\" & order_size == \"L\"){\n",
        "                 amount <- (all_menu$large_price[5] * order_quantity)\n",
        "                 menu_name <- (all_menu$pizza_menu[5])\n",
        "                  print(paste(\"Menu_id: \", order_menu, \",\" , \"Pizza_Menu: \", menu_name, \",\" , \"Quantity: \", order_quantity, \",\" , \"Amount: \", amount, \"EUR\"))\n",
        "\n",
        "              }\n",
        "\n",
        "            flush.console()\n",
        "            discount <- readline(\"Do you have any discount code (y/n): \")\n",
        "            if (discount == \"y\"){\n",
        "                discount_code <- readline(\"Please add your discount code: \")\n",
        "                if (discount_code == \"Pizza20\"){\n",
        "                    total_amount <- (amount * 0.8)\n",
        "                    customer_address <- readline(\"Your addess: \")\n",
        "                    customer_phone <- as.integer(readline(\"Your Phone number: \"))\n",
        "                    print(paste(\"Here is your reciept\"))\n",
        "                    print(paste(\"Name:\", customer_name,\",\",\n",
        "                            \"Your addess: \", customer_address,\",\",\n",
        "                            \"Your phone: \", customer_phone,\",\",\n",
        "                            \"Menu_id: \", order_menu, \",\" ,\n",
        "                            \"Pizza_Menu: \", menu_name,\n",
        "                            \"Quantity: \", order_quantity,\",\",\n",
        "                             \"Total amount: \", total_amount, \"EUR\"))\n",
        "                    print(paste(\"Thank you for your order\", customer_name,\"❤\"))\n",
        "\n",
        "                }\n",
        "            } else {\n",
        "                customer_address <- readline(\"Your addess: \")\n",
        "                customer_phone <- as.integer(readline(\"Your Phone number: \"))\n",
        "                print(paste(\"Here is your reciept\"))\n",
        "                print(paste(\"Name:\", customer_name,\",\",\n",
        "                            \"Addess: \", customer_address,\",\",\n",
        "                            \"Phone number: \", customer_phone,\",\",\n",
        "                            \"Menu_id: \", order_menu, \",\" ,\n",
        "                            \"Pizza_Menu: \", menu_name,\n",
        "                            \"Quantity: \", order_quantity,\",\",\n",
        "                             \"Total amount: \", amount, \"EUR\"))\n",
        "                print(paste(\"Thank you for your order,\", customer_name,\"❤\"))\n",
        "            }\n",
        "       } else {print(paste(\"Thank you for visiting us,\", customer_name))\n",
        "                print(paste(\"See you next time!\"))\n",
        "              }\n",
        "\n",
        "\n",
        "\n",
        "}\n",
        "\n",
        "\n",
        "}"
      ]
    },
    {
      "cell_type": "code",
      "source": [
        "order_pizza()"
      ],
      "metadata": {
        "colab": {
          "base_uri": "https://localhost:8080/",
          "height": 550
        },
        "id": "SnNVodErdAS6",
        "outputId": "4603e193-993f-4f29-ac0e-640b81fc6f31"
      },
      "execution_count": 18,
      "outputs": [
        {
          "output_type": "stream",
          "name": "stdout",
          "text": [
            "[1] \"Welcome to Mimee Pizzaria🍕🤗!\"\n",
            "What's your name?: Dan\n",
            "[1] \"Hi! Dan\"\n",
            "Would you like to order a pizza (y/n): y\n",
            "[1] \"Please see our menu\"\n"
          ]
        },
        {
          "output_type": "display_data",
          "data": {
            "text/plain": [
              "  menu_id pizza_menu  small_price medium_price large_price\n",
              "1 1       Pepperoni   10.00       12           15         \n",
              "2 2       Margherita   8.50       10           12         \n",
              "3 3       Hawaiian    12.00       15           17         \n",
              "4 4       Vegetarian   9.75       10           12         \n",
              "5 5       Meat Lovers 14.25       16           18         "
            ],
            "text/html": [
              "<table class=\"dataframe\">\n",
              "<caption>A data.frame: 5 × 5</caption>\n",
              "<thead>\n",
              "\t<tr><th scope=col>menu_id</th><th scope=col>pizza_menu</th><th scope=col>small_price</th><th scope=col>medium_price</th><th scope=col>large_price</th></tr>\n",
              "\t<tr><th scope=col>&lt;dbl&gt;</th><th scope=col>&lt;chr&gt;</th><th scope=col>&lt;dbl&gt;</th><th scope=col>&lt;dbl&gt;</th><th scope=col>&lt;dbl&gt;</th></tr>\n",
              "</thead>\n",
              "<tbody>\n",
              "\t<tr><td>1</td><td>Pepperoni  </td><td>10.00</td><td>12</td><td>15</td></tr>\n",
              "\t<tr><td>2</td><td>Margherita </td><td> 8.50</td><td>10</td><td>12</td></tr>\n",
              "\t<tr><td>3</td><td>Hawaiian   </td><td>12.00</td><td>15</td><td>17</td></tr>\n",
              "\t<tr><td>4</td><td>Vegetarian </td><td> 9.75</td><td>10</td><td>12</td></tr>\n",
              "\t<tr><td>5</td><td>Meat Lovers</td><td>14.25</td><td>16</td><td>18</td></tr>\n",
              "</tbody>\n",
              "</table>\n"
            ],
            "text/markdown": "\nA data.frame: 5 × 5\n\n| menu_id &lt;dbl&gt; | pizza_menu &lt;chr&gt; | small_price &lt;dbl&gt; | medium_price &lt;dbl&gt; | large_price &lt;dbl&gt; |\n|---|---|---|---|---|\n| 1 | Pepperoni   | 10.00 | 12 | 15 |\n| 2 | Margherita  |  8.50 | 10 | 12 |\n| 3 | Hawaiian    | 12.00 | 15 | 17 |\n| 4 | Vegetarian  |  9.75 | 10 | 12 |\n| 5 | Meat Lovers | 14.25 | 16 | 18 |\n\n",
            "text/latex": "A data.frame: 5 × 5\n\\begin{tabular}{lllll}\n menu\\_id & pizza\\_menu & small\\_price & medium\\_price & large\\_price\\\\\n <dbl> & <chr> & <dbl> & <dbl> & <dbl>\\\\\n\\hline\n\t 1 & Pepperoni   & 10.00 & 12 & 15\\\\\n\t 2 & Margherita  &  8.50 & 10 & 12\\\\\n\t 3 & Hawaiian    & 12.00 & 15 & 17\\\\\n\t 4 & Vegetarian  &  9.75 & 10 & 12\\\\\n\t 5 & Meat Lovers & 14.25 & 16 & 18\\\\\n\\end{tabular}\n"
          },
          "metadata": {}
        },
        {
          "output_type": "stream",
          "name": "stdout",
          "text": [
            "What would you like to order? Please type pizza menu id : 2\n",
            "Size (S/M/L): S\n",
            "How many box?: 2\n",
            "Please confirm your order (y/n): y\n",
            "[1] \"Menu_id:  2 , Pizza_Menu:  Margherita , Quantity:  2 , Amount:  17 EUR\"\n",
            "Do you have any discount code (y/n): y\n",
            "Please add your discount code: Pizza20\n",
            "Your addess: Penny street 2\n",
            "Your Phone number: 01234\n",
            "[1] \"Here is your reciept\"\n",
            "[1] \"Name: Dan , Your addess:  Penny street 2 , Your phone:  1234 , Menu_id:  2 , Pizza_Menu:  Margherita Quantity:  2 , Total amount:  13.6 EUR\"\n",
            "[1] \"Thank you for your order Dan ❤\"\n"
          ]
        }
      ]
    },
    {
      "cell_type": "code",
      "source": [
        "order_pizza()"
      ],
      "metadata": {
        "colab": {
          "base_uri": "https://localhost:8080/",
          "height": 359
        },
        "id": "pA0NlNsUgep4",
        "outputId": "a93ae50d-6e79-4ef7-8c68-35649e4dd6b2"
      },
      "execution_count": 19,
      "outputs": [
        {
          "output_type": "stream",
          "name": "stdout",
          "text": [
            "[1] \"Welcome to Mimee Pizzaria🍕🤗!\"\n",
            "What's your name?: Tommy\n",
            "[1] \"Hi! Tommy\"\n",
            "Would you like to order a pizza (y/n): n\n",
            "[1] \"Thank you for visiting us Tommy\"\n",
            "[1] \"See you next time!\"\n"
          ]
        },
        {
          "output_type": "display_data",
          "data": {
            "text/plain": [
              "  menu_id pizza_menu  small_price medium_price large_price\n",
              "1 1       Pepperoni   10.00       12           15         \n",
              "2 2       Margherita   8.50       10           12         \n",
              "3 3       Hawaiian    12.00       15           17         \n",
              "4 4       Vegetarian   9.75       10           12         \n",
              "5 5       Meat Lovers 14.25       16           18         "
            ],
            "text/html": [
              "<table class=\"dataframe\">\n",
              "<caption>A data.frame: 5 × 5</caption>\n",
              "<thead>\n",
              "\t<tr><th scope=col>menu_id</th><th scope=col>pizza_menu</th><th scope=col>small_price</th><th scope=col>medium_price</th><th scope=col>large_price</th></tr>\n",
              "\t<tr><th scope=col>&lt;dbl&gt;</th><th scope=col>&lt;chr&gt;</th><th scope=col>&lt;dbl&gt;</th><th scope=col>&lt;dbl&gt;</th><th scope=col>&lt;dbl&gt;</th></tr>\n",
              "</thead>\n",
              "<tbody>\n",
              "\t<tr><td>1</td><td>Pepperoni  </td><td>10.00</td><td>12</td><td>15</td></tr>\n",
              "\t<tr><td>2</td><td>Margherita </td><td> 8.50</td><td>10</td><td>12</td></tr>\n",
              "\t<tr><td>3</td><td>Hawaiian   </td><td>12.00</td><td>15</td><td>17</td></tr>\n",
              "\t<tr><td>4</td><td>Vegetarian </td><td> 9.75</td><td>10</td><td>12</td></tr>\n",
              "\t<tr><td>5</td><td>Meat Lovers</td><td>14.25</td><td>16</td><td>18</td></tr>\n",
              "</tbody>\n",
              "</table>\n"
            ],
            "text/markdown": "\nA data.frame: 5 × 5\n\n| menu_id &lt;dbl&gt; | pizza_menu &lt;chr&gt; | small_price &lt;dbl&gt; | medium_price &lt;dbl&gt; | large_price &lt;dbl&gt; |\n|---|---|---|---|---|\n| 1 | Pepperoni   | 10.00 | 12 | 15 |\n| 2 | Margherita  |  8.50 | 10 | 12 |\n| 3 | Hawaiian    | 12.00 | 15 | 17 |\n| 4 | Vegetarian  |  9.75 | 10 | 12 |\n| 5 | Meat Lovers | 14.25 | 16 | 18 |\n\n",
            "text/latex": "A data.frame: 5 × 5\n\\begin{tabular}{lllll}\n menu\\_id & pizza\\_menu & small\\_price & medium\\_price & large\\_price\\\\\n <dbl> & <chr> & <dbl> & <dbl> & <dbl>\\\\\n\\hline\n\t 1 & Pepperoni   & 10.00 & 12 & 15\\\\\n\t 2 & Margherita  &  8.50 & 10 & 12\\\\\n\t 3 & Hawaiian    & 12.00 & 15 & 17\\\\\n\t 4 & Vegetarian  &  9.75 & 10 & 12\\\\\n\t 5 & Meat Lovers & 14.25 & 16 & 18\\\\\n\\end{tabular}\n"
          },
          "metadata": {}
        }
      ]
    }
  ]
}